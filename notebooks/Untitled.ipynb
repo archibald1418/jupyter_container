{
 "cells": [
  {
   "cell_type": "code",
   "execution_count": 1,
   "id": "b827fb8a",
   "metadata": {},
   "outputs": [
    {
     "ename": "NameError",
     "evalue": "name 'a' is not defined",
     "output_type": "error",
     "traceback": [
      "\u001b[0;31m---------------------------------------------------------------------------\u001b[0m",
      "\u001b[0;31mNameError\u001b[0m                                 Traceback (most recent call last)",
      "\u001b[0;32m<ipython-input-1-bca0e2660b9f>\u001b[0m in \u001b[0;36m<module>\u001b[0;34m\u001b[0m\n\u001b[0;32m----> 1\u001b[0;31m \u001b[0mprint\u001b[0m\u001b[0;34m(\u001b[0m\u001b[0ma\u001b[0m\u001b[0;34m)\u001b[0m\u001b[0;34m\u001b[0m\u001b[0;34m\u001b[0m\u001b[0m\n\u001b[0m",
      "\u001b[0;31mNameError\u001b[0m: name 'a' is not defined"
     ]
    }
   ],
   "source": [
    "print(a)\n"
   ]
  },
  {
   "cell_type": "code",
   "execution_count": 2,
   "id": "9a43685c",
   "metadata": {},
   "outputs": [
    {
     "name": "stdout",
     "output_type": "stream",
     "text": [
      "MPLBACKEND=module://ipykernel.pylab.backend_inline\r\n",
      "HOSTNAME=9199225b7c2e\r\n",
      "SHLVL=1\r\n",
      "HOME=/root\r\n",
      "PAGER=cat\r\n",
      "_=/opt/conda/bin/jupyter\r\n",
      "TERM=xterm-color\r\n",
      "PATH=/opt/conda/bin:/usr/local/sbin:/usr/local/bin:/usr/sbin:/usr/bin:/sbin:/bin\r\n",
      "LANG=C.UTF-8\r\n",
      "GIT_PAGER=cat\r\n",
      "PWD=/opt/notebooks\r\n",
      "LC_ALL=C.UTF-8\r\n",
      "CLICOLOR=1\r\n",
      "JPY_PARENT_PID=6\r\n"
     ]
    }
   ],
   "source": [
    "! env"
   ]
  },
  {
   "cell_type": "code",
   "execution_count": 3,
   "id": "5c93f5d9",
   "metadata": {},
   "outputs": [
    {
     "name": "stdout",
     "output_type": "stream",
     "text": [
      "argon2-cffi @ file:///tmp/build/80754af9/argon2-cffi_1613037097816/work\r\n",
      "async-generator @ file:///home/ktietz/src/ci/async_generator_1611927993394/work\r\n",
      "attrs @ file:///tmp/build/80754af9/attrs_1620827162558/work\r\n",
      "backcall @ file:///home/ktietz/src/ci/backcall_1611930011877/work\r\n",
      "bleach @ file:///tmp/build/80754af9/bleach_1612211392645/work\r\n",
      "brotlipy==0.7.0\r\n",
      "certifi==2021.5.30\r\n",
      "cffi @ file:///tmp/build/80754af9/cffi_1605538068321/work\r\n",
      "chardet @ file:///tmp/build/80754af9/chardet_1605303185383/work\r\n",
      "conda==4.10.1\r\n",
      "conda-package-handling @ file:///tmp/build/80754af9/conda-package-handling_1603018141399/work\r\n",
      "cryptography @ file:///tmp/build/80754af9/cryptography_1605544487601/work\r\n",
      "decorator @ file:///tmp/build/80754af9/decorator_1621259047763/work\r\n",
      "defusedxml @ file:///tmp/build/80754af9/defusedxml_1615228127516/work\r\n",
      "entrypoints==0.3\r\n",
      "idna @ file:///tmp/build/80754af9/idna_1593446292537/work\r\n",
      "importlib-metadata @ file:///tmp/build/80754af9/importlib-metadata_1617874469820/work\r\n",
      "ipykernel @ file:///tmp/build/80754af9/ipykernel_1596207638929/work/dist/ipykernel-5.3.4-py3-none-any.whl\r\n",
      "ipython @ file:///tmp/build/80754af9/ipython_1617120885885/work\r\n",
      "ipython-genutils @ file:///tmp/build/80754af9/ipython_genutils_1606773439826/work\r\n",
      "ipywidgets @ file:///tmp/build/80754af9/ipywidgets_1610481889018/work\r\n",
      "jedi==0.17.0\r\n",
      "Jinja2 @ file:///tmp/build/80754af9/jinja2_1621238361758/work\r\n",
      "jsonschema @ file:///tmp/build/80754af9/jsonschema_1602607155483/work\r\n",
      "jupyter==1.0.0\r\n",
      "jupyter-client @ file:///tmp/build/80754af9/jupyter_client_1616770841739/work\r\n",
      "jupyter-console @ file:///tmp/build/80754af9/jupyter_console_1616615302928/work\r\n",
      "jupyter-core @ file:///tmp/build/80754af9/jupyter_core_1612213311222/work\r\n",
      "jupyterlab-pygments @ file:///tmp/build/80754af9/jupyterlab_pygments_1601490720602/work\r\n",
      "jupyterlab-widgets @ file:///tmp/build/80754af9/jupyterlab_widgets_1609884341231/work\r\n",
      "MarkupSafe @ file:///tmp/build/80754af9/markupsafe_1621528148836/work\r\n",
      "mistune==0.8.4\r\n",
      "nbclient @ file:///tmp/build/80754af9/nbclient_1614364831625/work\r\n",
      "nbconvert @ file:///tmp/build/80754af9/nbconvert_1601914830498/work\r\n",
      "nbformat @ file:///tmp/build/80754af9/nbformat_1617383369282/work\r\n",
      "nest-asyncio @ file:///tmp/build/80754af9/nest-asyncio_1613680548246/work\r\n",
      "notebook @ file:///tmp/build/80754af9/notebook_1621528346532/work\r\n",
      "packaging @ file:///tmp/build/80754af9/packaging_1611952188834/work\r\n",
      "pandocfilters @ file:///tmp/build/80754af9/pandocfilters_1605120460739/work\r\n",
      "parso @ file:///tmp/build/80754af9/parso_1617223946239/work\r\n",
      "pexpect @ file:///tmp/build/80754af9/pexpect_1605563209008/work\r\n",
      "pickleshare @ file:///tmp/build/80754af9/pickleshare_1606932040724/work\r\n",
      "prometheus-client @ file:///tmp/build/80754af9/prometheus_client_1618088486455/work\r\n",
      "prompt-toolkit @ file:///tmp/build/80754af9/prompt-toolkit_1616415428029/work\r\n",
      "ptyprocess @ file:///tmp/build/80754af9/ptyprocess_1609355006118/work/dist/ptyprocess-0.7.0-py2.py3-none-any.whl\r\n",
      "pycosat==0.6.3\r\n",
      "pycparser @ file:///tmp/build/80754af9/pycparser_1594388511720/work\r\n",
      "Pygments @ file:///tmp/build/80754af9/pygments_1621606182707/work\r\n",
      "pyOpenSSL @ file:///tmp/build/80754af9/pyopenssl_1605545627475/work\r\n",
      "pyparsing @ file:///home/linux1/recipes/ci/pyparsing_1610983426697/work\r\n",
      "pyrsistent @ file:///tmp/build/80754af9/pyrsistent_1600141720057/work\r\n",
      "PySocks @ file:///tmp/build/80754af9/pysocks_1605305779399/work\r\n",
      "python-dateutil @ file:///home/ktietz/src/ci/python-dateutil_1611928101742/work\r\n",
      "pyzmq==20.0.0\r\n",
      "qtconsole @ file:///tmp/build/80754af9/qtconsole_1616775094278/work\r\n",
      "QtPy==1.9.0\r\n",
      "requests @ file:///tmp/build/80754af9/requests_1592841827918/work\r\n",
      "ruamel-yaml==0.15.87\r\n",
      "Send2Trash @ file:///tmp/build/80754af9/send2trash_1607525499227/work\r\n",
      "sip==4.19.13\r\n",
      "six @ file:///tmp/build/80754af9/six_1605205327372/work\r\n",
      "terminado==0.9.4\r\n",
      "testpath @ file:///home/ktietz/src/ci/testpath_1611930608132/work\r\n",
      "tornado @ file:///tmp/build/80754af9/tornado_1606942300299/work\r\n",
      "tqdm @ file:///tmp/build/80754af9/tqdm_1605303662894/work\r\n",
      "traitlets @ file:///home/ktietz/src/ci/traitlets_1611929699868/work\r\n",
      "urllib3 @ file:///tmp/build/80754af9/urllib3_1603305693037/work\r\n",
      "wcwidth @ file:///tmp/build/80754af9/wcwidth_1593447189090/work\r\n",
      "webencodings==0.5.1\r\n",
      "widgetsnbextension==3.5.1\r\n",
      "zipp @ file:///tmp/build/80754af9/zipp_1615904174917/work\r\n"
     ]
    }
   ],
   "source": [
    "imp"
   ]
  },
  {
   "cell_type": "code",
   "execution_count": null,
   "id": "b8536d34",
   "metadata": {},
   "outputs": [],
   "source": []
  }
 ],
 "metadata": {
  "kernelspec": {
   "display_name": "Python 3",
   "language": "python",
   "name": "python3"
  },
  "language_info": {
   "codemirror_mode": {
    "name": "ipython",
    "version": 3
   },
   "file_extension": ".py",
   "mimetype": "text/x-python",
   "name": "python",
   "nbconvert_exporter": "python",
   "pygments_lexer": "ipython3",
   "version": "3.8.5"
  }
 },
 "nbformat": 4,
 "nbformat_minor": 5
}
